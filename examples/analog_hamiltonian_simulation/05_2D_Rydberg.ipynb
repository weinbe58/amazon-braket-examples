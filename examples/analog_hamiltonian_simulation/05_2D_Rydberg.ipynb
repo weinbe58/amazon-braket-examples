{
 "cells": [
  {
   "cell_type": "code",
   "execution_count": 1,
   "id": "e5598963",
   "metadata": {},
   "outputs": [],
   "source": [
    "from braket.ahs.hamiltonian import Hamiltonian\n",
    "from braket.ahs.atom_arrangement import AtomArrangement\n",
    "from braket.ahs.analog_hamiltonian_simulation import AnalogHamiltonianSimulation\n",
    "\n"
   ]
  },
  {
   "cell_type": "code",
   "execution_count": 28,
   "id": "4a9c026d",
   "metadata": {},
   "outputs": [],
   "source": [
    "import numpy as np\n",
    "\n",
    "# generate single problem geometry \n",
    "scale = 4e-6\n",
    "interproblem_distance = 15e-6\n",
    "\n",
    "Lx = 3\n",
    "Ly = 3\n",
    "\n",
    "register = AtomArrangement()\n",
    "\n",
    "for ix in range(Lx):\n",
    "    for iy in range(Ly):\n",
    "        pos = (ix * scale,iy * scale)\n",
    "        register.add(pos)\n",
    "    \n",
    "interproblem_distance = 10e-6\n"
   ]
  },
  {
   "cell_type": "code",
   "execution_count": 29,
   "id": "36a82617",
   "metadata": {},
   "outputs": [],
   "source": [
    "import numpy as np\n",
    "from braket.ahs.atom_arrangement import AtomArrangement, SiteType\n",
    "from braket.aws import AwsDevice\n",
    "import json\n",
    "\n",
    "\n",
    "\n",
    "\n",
    "\n",
    "\n",
    "\n",
    "def generate_problem_grid(register,interproblem_distance,qpu):\n",
    "#     # get values from device capabilities\n",
    "#     field_of_view_width = qpu.properties.paradigm.lattice.area.width\n",
    "#     field_of_view_height = qpu.properties.paradigm.lattice.area.height\n",
    "#     n_site_max = qpu.properties.paradigm.lattice.geometry.numberSitesMax\n",
    "\n",
    "    field_of_view_width = 100e-6\n",
    "    field_of_view_height = 75e-6\n",
    "    n_site_max = 256\n",
    "    \n",
    "    x_min = min(*[site.coordinate[0] for site in register])\n",
    "    x_max = max(*[site.coordinate[0] for site in register])\n",
    "    y_min = min(*[site.coordinate[1] for site in register])\n",
    "    y_max = max(*[site.coordinate[1] for site in register])\n",
    "    \n",
    "    single_problem_width = x_max - x_min\n",
    "    single_problem_height = y_max - y_min\n",
    "    # setting up a grid of problems filling the total area\n",
    "    n_width = int(field_of_view_width   // (single_problem_width  + interproblem_distance))\n",
    "    n_height = int(field_of_view_height // (single_problem_height + interproblem_distance))\n",
    "\n",
    "\n",
    "\n",
    "    batch_mapping = dict()\n",
    "    new_register = AtomArrangement()\n",
    "    \n",
    "    qubit_number = 0\n",
    "    \n",
    "    for ix in range(n_width):\n",
    "        x_shift = ix * (single_problem_width   + interproblem_distance)\n",
    "        \n",
    "        for iy in range(n_height):    \n",
    "            y_shift = iy * (single_problem_height  + interproblem_distance)\n",
    "            \n",
    "            \n",
    "            if qubit_number + len(register) > n_site_max: break # reached maximum number of sites\n",
    "                \n",
    "            qubits = []\n",
    "            for site in register:\n",
    "                new_coordinate = (x_shift + site.coordinate[0],y_shift+site.coordinate[1])\n",
    "                new_register.add(new_coordinate)\n",
    "                \n",
    "                qubits.append(qubit_number)\n",
    "                \n",
    "                qubit_number += 1\n",
    "            \n",
    "            batch_mapping[(ix,iy)] = qubits # keep track of white qubits get mapped to witch problem\n",
    "            \n",
    "\n",
    "    return new_register,batch_mapping\n",
    "\n",
    "\n",
    "# qpu = AwsDevice(\"arn:aws:braket:us-east-1::device/qpu/quera/Aquila\")\n",
    "qpu = None\n",
    "\n",
    "parallel_registers,batch_maping = generate_problem_grid(register,interproblem_distance,qpu)\n"
   ]
  },
  {
   "cell_type": "code",
   "execution_count": 30,
   "id": "b26b7e0a",
   "metadata": {},
   "outputs": [
    {
     "data": {
      "image/png": "[encoded data removed]",
      "text/plain": [
       "<Figure size 504x504 with 1 Axes>"
      ]
     },
     "metadata": {
      "needs_background": "light"
     },
     "output_type": "display_data"
    },
    {
     "data": {
      "image/png": "[encoded data removed]",
      "text/plain": [
       "<Figure size 504x504 with 1 Axes>"
      ]
     },
     "metadata": {
      "needs_background": "light"
     },
     "output_type": "display_data"
    }
   ],
   "source": [
    "# [Optional] We visually inspect the register\n",
    "\n",
    "import matplotlib.pyplot as plt\n",
    "\n",
    "def show_register(register):\n",
    "    filled_sites = [site.coordinate for site in register._sites if site.site_type == SiteType.FILLED]\n",
    "    empty_sites = [site.coordinate for site in register._sites if site.site_type == SiteType.VACANT]\n",
    "    fig = plt.figure(figsize=(7, 7))\n",
    "    plt.plot(np.array(filled_sites)[:, 0], np.array(filled_sites)[:, 1], 'r.', ms=15, label='filled')\n",
    "    plt.legend(bbox_to_anchor=(1.1, 1.05))\n",
    "    plt.gca().set_aspect(\"equal\")\n",
    "    \n",
    "show_register(register)\n",
    "show_register(parallel_registers)"
   ]
  },
  {
   "cell_type": "code",
   "execution_count": null,
   "id": "5a31ab21",
   "metadata": {},
   "outputs": [],
   "source": [
    "amplitude_min = 0\n",
    "amplitude_max = 6.3e6  # rad / s\n",
    "detuning_min = -6e6  # rad / s\n",
    "detuning_max = 15e6  # rad / s\n",
    "time_max = 4e-6  # s\n",
    "time_ramp = 5e-7  # s\n",
    "time_to_measure = 1e-7 # s\n",
    "\n",
    "time_points = [0, time_ramp, time_max - time_ramp, time_max]\n",
    "amplitude_values = [amplitude_min, amplitude_max, amplitude_max, amplitude_min]\n",
    "detuning_values = [detuning_min, detuning_min, detuning_max, detuning_max]\n",
    "phase_values = [0, 0, 0, 0]\n",
    "\n",
    "drive = get_drive(time_points, amplitude_values, detuning_values, phase_values)\n",
    "\n",
    "ahs_program = AnalogHamiltonianSimulation(\n",
    "    register=parallel_registers, \n",
    "    hamiltonian=drive\n",
    ")"
   ]
  },
  {
   "cell_type": "code",
   "execution_count": null,
   "id": "88cdddd1",
   "metadata": {},
   "outputs": [],
   "source": [
    "task = qpu.run(ahs_program.discretize(qpu), shots=100)\n",
    "print(task)"
   ]
  },
  {
   "cell_type": "code",
   "execution_count": null,
   "id": "5a799030",
   "metadata": {},
   "outputs": [],
   "source": [
    "# collecting all data\n",
    "\n",
    "results = task.results()\n",
    "\n",
    "all_measurements = []\n",
    "for measurement in results.measurements:\n",
    "    pass\n",
    "    \n",
    "\n",
    "\n"
   ]
  }
 ],
 "metadata": {
  "kernelspec": {
   "display_name": "Python 3 (ipykernel)",
   "language": "python",
   "name": "python3"
  },
  "language_info": {
   "codemirror_mode": {
    "name": "ipython",
    "version": 3
   },
   "file_extension": ".py",
   "mimetype": "text/x-python",
   "name": "python",
   "nbconvert_exporter": "python",
   "pygments_lexer": "ipython3",
   "version": "3.10.6"
  }
 },
 "nbformat": 4,
 "nbformat_minor": 5
}

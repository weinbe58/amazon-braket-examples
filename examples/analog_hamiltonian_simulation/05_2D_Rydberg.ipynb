{
 "cells": [
  {
   "cell_type": "code",
   "execution_count": 1,
   "id": "e5598963",
   "metadata": {},
   "outputs": [],
   "source": [
    "from braket.ahs.hamiltonian import Hamiltonian\n",
    "from braket.ahs.atom_arrangement import AtomArrangement\n",
    "from braket.ahs.analog_hamiltonian_simulation import AnalogHamiltonianSimulation"
   ]
  },
  {
   "cell_type": "code",
   "execution_count": 2,
   "id": "4a9c026d",
   "metadata": {},
   "outputs": [],
   "source": [
    "import numpy as np\n",
    "\n",
    "# generate single problem geometry \n",
    "scale = 4e-6\n",
    "interproblem_distance = 15e-6\n",
    "\n",
    "Lx = 3\n",
    "Ly = 3\n",
    "\n",
    "# # For testing purposes, lets try 2 2x2s next to eachother (8 qubits total)\n",
    "# Lx = 2\n",
    "# Ly = 2\n",
    "\n",
    "register = AtomArrangement()\n",
    "\n",
    "# create a 3x3 cell\n",
    "for ix in range(Lx):\n",
    "    for iy in range(Ly):\n",
    "        pos = (ix * scale,iy * scale)\n",
    "        register.add(pos)\n",
    "    \n",
    "interproblem_distance = 10e-6"
   ]
  },
  {
   "cell_type": "code",
   "execution_count": 3,
   "id": "36a82617",
   "metadata": {},
   "outputs": [],
   "source": [
    "import numpy as np\n",
    "from braket.ahs.atom_arrangement import AtomArrangement, SiteType\n",
    "from braket.aws import AwsDevice\n",
    "import json\n",
    "\n",
    "# tile the cells created above\n",
    "def generate_problem_grid(register,interproblem_distance,qpu):\n",
    "#     # get values from device capabilities\n",
    "#     field_of_view_width = qpu.properties.paradigm.lattice.area.width\n",
    "#     field_of_view_height = qpu.properties.paradigm.lattice.area.height\n",
    "#     n_site_max = qpu.properties.paradigm.lattice.geometry.numberSitesMax\n",
    "\n",
    "    field_of_view_width = 100e-6\n",
    "    field_of_view_height = 75e-6\n",
    "    n_site_max = 8\n",
    "    \n",
    "    x_min = min(*[site.coordinate[0] for site in register])\n",
    "    x_max = max(*[site.coordinate[0] for site in register])\n",
    "    y_min = min(*[site.coordinate[1] for site in register])\n",
    "    y_max = max(*[site.coordinate[1] for site in register])\n",
    "    \n",
    "    single_problem_width = x_max - x_min\n",
    "    single_problem_height = y_max - y_min\n",
    "    # setting up a grid of problems filling the total area\n",
    "    n_width = int(field_of_view_width   // (single_problem_width  + interproblem_distance))\n",
    "    n_height = int(field_of_view_height // (single_problem_height + interproblem_distance))\n",
    "\n",
    "\n",
    "\n",
    "    batch_mapping = dict()\n",
    "    new_register = AtomArrangement()\n",
    "    \n",
    "    qubit_number = 0\n",
    "    \n",
    "    for ix in range(n_width):\n",
    "        x_shift = ix * (single_problem_width   + interproblem_distance)\n",
    "        \n",
    "        for iy in range(n_height):    \n",
    "            y_shift = iy * (single_problem_height  + interproblem_distance)\n",
    "            \n",
    "            \n",
    "            if qubit_number + len(register) > n_site_max: break # reached maximum number of sites\n",
    "                \n",
    "            qubits = []\n",
    "            for site in register:\n",
    "                new_coordinate = (x_shift + site.coordinate[0],y_shift+site.coordinate[1])\n",
    "                new_register.add(new_coordinate)\n",
    "                \n",
    "                qubits.append(qubit_number)\n",
    "                \n",
    "                qubit_number += 1\n",
    "            \n",
    "            batch_mapping[(ix,iy)] = qubits # keep track of white qubits get mapped to witch problem\n",
    "            \n",
    "\n",
    "    return new_register,batch_mapping\n",
    "\n",
    "\n",
    "# qpu = AwsDevice(\"arn:aws:braket:us-east-1::device/qpu/quera/Aquila\")\n",
    "qpu = None\n",
    "\n",
    "parallel_registers,batch_mapping = generate_problem_grid(register,interproblem_distance,qpu)\n"
   ]
  },
  {
   "cell_type": "code",
   "execution_count": 4,
   "id": "9fab538e-e7fb-4d24-8458-d8de0a38446c",
   "metadata": {},
   "outputs": [
    {
     "data": {
      "text/plain": [
       "{(0, 0): [0, 1, 2, 3], (0, 1): [4, 5, 6, 7]}"
      ]
     },
     "execution_count": 4,
     "metadata": {},
     "output_type": "execute_result"
    }
   ],
   "source": [
    "# Each cell has its own qubits\n",
    "# key of batch mapping dictionary corresponds to position of cell\n",
    "batch_mapping"
   ]
  },
  {
   "cell_type": "code",
   "execution_count": 4,
   "id": "b26b7e0a",
   "metadata": {},
   "outputs": [
    {
     "ename": "IndexError",
     "evalue": "too many indices for array: array is 1-dimensional, but 2 were indexed",
     "output_type": "error",
     "traceback": [
      "\u001b[0;31m---------------------------------------------------------------------------\u001b[0m",
      "\u001b[0;31mIndexError\u001b[0m                                Traceback (most recent call last)",
      "Input \u001b[0;32mIn [4]\u001b[0m, in \u001b[0;36m<cell line: 14>\u001b[0;34m()\u001b[0m\n\u001b[1;32m     11\u001b[0m     plt\u001b[38;5;241m.\u001b[39mgca()\u001b[38;5;241m.\u001b[39mset_aspect(\u001b[38;5;124m\"\u001b[39m\u001b[38;5;124mequal\u001b[39m\u001b[38;5;124m\"\u001b[39m)\n\u001b[1;32m     13\u001b[0m show_register(register)\n\u001b[0;32m---> 14\u001b[0m \u001b[43mshow_register\u001b[49m\u001b[43m(\u001b[49m\u001b[43mparallel_registers\u001b[49m\u001b[43m)\u001b[49m\n",
      "Input \u001b[0;32mIn [4]\u001b[0m, in \u001b[0;36mshow_register\u001b[0;34m(register)\u001b[0m\n\u001b[1;32m      7\u001b[0m empty_sites \u001b[38;5;241m=\u001b[39m [site\u001b[38;5;241m.\u001b[39mcoordinate \u001b[38;5;28;01mfor\u001b[39;00m site \u001b[38;5;129;01min\u001b[39;00m register\u001b[38;5;241m.\u001b[39m_sites \u001b[38;5;28;01mif\u001b[39;00m site\u001b[38;5;241m.\u001b[39msite_type \u001b[38;5;241m==\u001b[39m SiteType\u001b[38;5;241m.\u001b[39mVACANT]\n\u001b[1;32m      8\u001b[0m fig \u001b[38;5;241m=\u001b[39m plt\u001b[38;5;241m.\u001b[39mfigure(figsize\u001b[38;5;241m=\u001b[39m(\u001b[38;5;241m7\u001b[39m, \u001b[38;5;241m7\u001b[39m))\n\u001b[0;32m----> 9\u001b[0m plt\u001b[38;5;241m.\u001b[39mplot(\u001b[43mnp\u001b[49m\u001b[38;5;241;43m.\u001b[39;49m\u001b[43marray\u001b[49m\u001b[43m(\u001b[49m\u001b[43mfilled_sites\u001b[49m\u001b[43m)\u001b[49m\u001b[43m[\u001b[49m\u001b[43m:\u001b[49m\u001b[43m,\u001b[49m\u001b[43m \u001b[49m\u001b[38;5;241;43m0\u001b[39;49m\u001b[43m]\u001b[49m, np\u001b[38;5;241m.\u001b[39marray(filled_sites)[:, \u001b[38;5;241m1\u001b[39m], \u001b[38;5;124m'\u001b[39m\u001b[38;5;124mr.\u001b[39m\u001b[38;5;124m'\u001b[39m, ms\u001b[38;5;241m=\u001b[39m\u001b[38;5;241m15\u001b[39m, label\u001b[38;5;241m=\u001b[39m\u001b[38;5;124m'\u001b[39m\u001b[38;5;124mfilled\u001b[39m\u001b[38;5;124m'\u001b[39m)\n\u001b[1;32m     10\u001b[0m plt\u001b[38;5;241m.\u001b[39mlegend(bbox_to_anchor\u001b[38;5;241m=\u001b[39m(\u001b[38;5;241m1.1\u001b[39m, \u001b[38;5;241m1.05\u001b[39m))\n\u001b[1;32m     11\u001b[0m plt\u001b[38;5;241m.\u001b[39mgca()\u001b[38;5;241m.\u001b[39mset_aspect(\u001b[38;5;124m\"\u001b[39m\u001b[38;5;124mequal\u001b[39m\u001b[38;5;124m\"\u001b[39m)\n",
      "\u001b[0;31mIndexError\u001b[0m: too many indices for array: array is 1-dimensional, but 2 were indexed"
     ]
    },
    {
     "data": {
      "image/png": "[encoded data removed]",
      "text/plain": [
       "<Figure size 504x504 with 1 Axes>"
      ]
     },
     "metadata": {
      "needs_background": "light"
     },
     "output_type": "display_data"
    },
    {
     "data": {
      "text/plain": [
       "<Figure size 504x504 with 0 Axes>"
      ]
     },
     "metadata": {},
     "output_type": "display_data"
    }
   ],
   "source": [
    "# [Optional] We visually inspect the register\n",
    "\n",
    "import matplotlib.pyplot as plt\n",
    "\n",
    "def show_register(register):\n",
    "    filled_sites = [site.coordinate for site in register._sites if site.site_type == SiteType.FILLED]\n",
    "    empty_sites = [site.coordinate for site in register._sites if site.site_type == SiteType.VACANT]\n",
    "    fig = plt.figure(figsize=(7, 7))\n",
    "    plt.plot(np.array(filled_sites)[:, 0], np.array(filled_sites)[:, 1], 'r.', ms=15, label='filled')\n",
    "    plt.legend(bbox_to_anchor=(1.1, 1.05))\n",
    "    plt.gca().set_aspect(\"equal\")\n",
    "    \n",
    "show_register(register)\n",
    "show_register(parallel_registers)"
   ]
  },
  {
   "cell_type": "code",
   "execution_count": 6,
   "id": "3f0e1ed4-3eea-4091-9e8a-d1ed6b7a16d2",
   "metadata": {},
   "outputs": [],
   "source": [
    "from utils import show_register as utils_show_register"
   ]
  },
  {
   "cell_type": "code",
   "execution_count": 7,
   "id": "8d2c1cd4-6c88-4dba-a54e-c2b1e7b8bcc1",
   "metadata": {},
   "outputs": [
    {
     "data": {
      "image/png": "[encoded data removed]",
      "text/plain": [
       "<Figure size 700x700 with 1 Axes>"
      ]
     },
     "metadata": {},
     "output_type": "display_data"
    }
   ],
   "source": [
    "utils_show_register(parallel_registers)"
   ]
  },
  {
   "cell_type": "code",
   "execution_count": 8,
   "id": "5a31ab21",
   "metadata": {},
   "outputs": [],
   "source": [
    "from utils import get_drive\n",
    "\n",
    "amplitude_min = 0\n",
    "amplitude_max = 6.3e6  # rad / s\n",
    "detuning_min = -6e6  # rad / s\n",
    "detuning_max = 15e6  # rad / s\n",
    "time_max = 4e-6  # s\n",
    "time_ramp = 5e-7  # s\n",
    "time_to_measure = 1e-7 # s\n",
    "\n",
    "time_points = [0, time_ramp, time_max - time_ramp, time_max]\n",
    "amplitude_values = [amplitude_min, amplitude_max, amplitude_max, amplitude_min]\n",
    "detuning_values = [detuning_min, detuning_min, detuning_max, detuning_max]\n",
    "phase_values = [0, 0, 0, 0]\n",
    "\n",
    "drive = get_drive(time_points, amplitude_values, detuning_values, phase_values)\n",
    "\n",
    "ahs_program = AnalogHamiltonianSimulation(\n",
    "    register=parallel_registers, \n",
    "    hamiltonian=drive\n",
    ")"
   ]
  },
  {
   "cell_type": "code",
   "execution_count": 9,
   "id": "88cdddd1",
   "metadata": {},
   "outputs": [
    {
     "ename": "AttributeError",
     "evalue": "'NoneType' object has no attribute 'run'",
     "output_type": "error",
     "traceback": [
      "\u001b[0;31m---------------------------------------------------------------------------\u001b[0m",
      "\u001b[0;31mAttributeError\u001b[0m                            Traceback (most recent call last)",
      "Cell \u001b[0;32mIn [9], line 1\u001b[0m\n\u001b[0;32m----> 1\u001b[0m task \u001b[38;5;241m=\u001b[39m \u001b[43mqpu\u001b[49m\u001b[38;5;241;43m.\u001b[39;49m\u001b[43mrun\u001b[49m(ahs_program\u001b[38;5;241m.\u001b[39mdiscretize(qpu), shots\u001b[38;5;241m=\u001b[39m\u001b[38;5;241m100\u001b[39m)\n\u001b[1;32m      2\u001b[0m \u001b[38;5;28mprint\u001b[39m(task)\n",
      "\u001b[0;31mAttributeError\u001b[0m: 'NoneType' object has no attribute 'run'"
     ]
    }
   ],
   "source": [
    "task = qpu.run(ahs_program.discretize(qpu), shots=100)\n",
    "print(task)"
   ]
  },
  {
   "cell_type": "code",
   "execution_count": null,
   "id": "5a799030",
   "metadata": {},
   "outputs": [],
   "source": [
    "# collecting all data\n",
    "\n",
    "results = task.results()\n",
    "\n",
    "all_measurements = []\n",
    "for measurement in results.measurements:\n",
    "    pass\n",
    "    \n"
   ]
  },
  {
   "cell_type": "markdown",
   "id": "6404407a-b4ee-4ebc-8640-9c8bdd12eabe",
   "metadata": {},
   "source": [
    "## Local Simulator and Visualization"
   ]
  },
  {
   "cell_type": "code",
   "execution_count": 10,
   "id": "e86c145a-89b9-441a-b36f-651844e338bf",
   "metadata": {},
   "outputs": [],
   "source": [
    "from braket.devices import LocalSimulator\n",
    "device = LocalSimulator(\"braket_ahs\")\n",
    "\n",
    "result = device.run(ahs_program, shots=1000).result()"
   ]
  },
  {
   "cell_type": "code",
   "execution_count": 11,
   "id": "f307dced-2760-4dc4-963b-60681d86c795",
   "metadata": {},
   "outputs": [
    {
     "data": {
      "image/png": "[encoded data removed]",
      "text/plain": [
       "<Figure size 640x480 with 1 Axes>"
      ]
     },
     "metadata": {},
     "output_type": "display_data"
    }
   ],
   "source": [
    "from utils import show_final_avg_density, get_avg_density\n",
    "show_final_avg_density(result)"
   ]
  },
  {
   "cell_type": "code",
   "execution_count": 12,
   "id": "d9b80e1a-969b-4f90-af0b-d5a2239d1ff2",
   "metadata": {},
   "outputs": [
    {
     "data": {
      "text/plain": [
       "(2, 2)"
      ]
     },
     "execution_count": 12,
     "metadata": {},
     "output_type": "execute_result"
    }
   ],
   "source": [
    "batch_mapping # coordinate supersystem\n",
    "Lx, Ly # the sizes of the cells"
   ]
  },
  {
   "cell_type": "code",
   "execution_count": 13,
   "id": "a2113cf2-5838-41c1-a750-2f8e4d0c8ee8",
   "metadata": {},
   "outputs": [],
   "source": [
    "import matplotlib.pyplot as plt\n",
    "import numpy as np"
   ]
  },
  {
   "cell_type": "code",
   "execution_count": 27,
   "id": "7c97af57-cfcc-41ee-9b61-1cdee6e92faf",
   "metadata": {},
   "outputs": [],
   "source": [
    "def plot_cell_density(result, batch_mapping, Lx, Ly):\n",
    "    largest_x = max(batch_mapping.keys(), key = lambda k: k[0]) # gives tuple with the largest x value \n",
    "    largest_y = max(batch_mapping.keys(), key = lambda k: k[1]) # gives tuple with the largest y value\n",
    "    \n",
    "    num_subplot_sites = (largest_x[0] + 1, largest_y[1] + 1)\n",
    "    fig, axs = plt.subplots(*num_subplot_sites)\n",
    "    \n",
    "    avg_density = get_avg_density(result)\n",
    "    \n",
    "    # iterate over each cell, with each cell getting its own subplot\n",
    "    for cell, qubits in batch_mapping.items():\n",
    "\n",
    "\n",
    "        # extract the associated average Rydberg density from each site,\n",
    "        # then reshape from the original list so it's displayed properly\n",
    "        avg_density_subgrid = []\n",
    "        for qubit in qubits:\n",
    "            avg_density_subgrid.append(avg_density[qubit])\n",
    "\n",
    "        avg_density_subgrid = np.array(avg_density_subgrid).reshape(Lx,Ly)\n",
    "\n",
    "        subgrid = np.rot90(np.array(qubits).reshape(Lx, Ly), k=1)\n",
    "\n",
    "        # account for the fact that if you only have one row but multiple columns,\n",
    "        # matplotlib just uses the column coordinate\n",
    "        if num_subplot_sites[0] == 1:\n",
    "            cell = cell[1]\n",
    "\n",
    "        # do plotting inside subplot\n",
    "        im = axs[cell].imshow(avg_density_subgrid, cmap=\"Blues\")\n",
    "\n",
    "        # add title \n",
    "        axs[cell].set_title(str(cell))\n",
    "\n",
    "        # turn off axes\n",
    "        axs[cell].axis(\"off\")\n",
    "        # overlay qubit numbers\n",
    "        for (j,i),label in np.ndenumerate(subgrid):\n",
    "            axs[cell].text(i,j,label, color='grey')\n",
    "\n",
    "    # add a colorbar\n",
    "    fig.colorbar(im, ax=axs.ravel().tolist())\n",
    "        \n",
    "    return fig, axs"
   ]
  },
  {
   "cell_type": "code",
   "execution_count": 28,
   "id": "b69d4270-8efd-4a52-ac53-057f854831e9",
   "metadata": {},
   "outputs": [
    {
     "data": {
      "image/png": "[encoded data removed]",
      "text/plain": [
       "<Figure size 640x480 with 3 Axes>"
      ]
     },
     "metadata": {},
     "output_type": "display_data"
    }
   ],
   "source": [
    "fig, axs = plot_cell_density(result=result,batch_mapping=batch_mapping, Lx=Lx, Ly=Ly)"
   ]
  }
 ],
 "metadata": {
  "kernelspec": {
   "display_name": "Python 3 (ipykernel)",
   "language": "python",
   "name": "python3"
  },
  "language_info": {
   "codemirror_mode": {
    "name": "ipython",
    "version": 3
   },
   "file_extension": ".py",
   "mimetype": "text/x-python",
   "name": "python",
   "nbconvert_exporter": "python",
   "pygments_lexer": "ipython3",
   "version": "3.10.6"
  }
 },
 "nbformat": 4,
 "nbformat_minor": 5
}
